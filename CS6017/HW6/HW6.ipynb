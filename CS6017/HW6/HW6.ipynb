{
 "cells": [
  {
   "cell_type": "code",
   "execution_count": 9,
   "metadata": {},
   "outputs": [],
   "source": [
    "import pandas as pd\n",
    "import numpy as np\n",
    "import matplotlib.pyplot as plt\n",
    "import torch\n",
    "import torch.nn as nn\n",
    "import torch.optim as optim\n",
    "from torch.utils.data import DataLoader, TensorDataset\n",
    "from sklearn.model_selection import train_test_split\n",
    "from sklearn.model_selection import KFold\n",
    "from sklearn.metrics import accuracy_score\n"
   ]
  },
  {
   "cell_type": "markdown",
   "metadata": {},
   "source": [
    "# Step 1: Data acquisition + cleanup"
   ]
  },
  {
   "cell_type": "code",
   "execution_count": 3,
   "metadata": {},
   "outputs": [],
   "source": [
    "def transform_data(df):\n",
    "\n",
    "    # Extract labels\n",
    "    Ys = df['m_label'].values\n",
    "\n",
    "    # Extract pixel values and normalize\n",
    "    pixel_columns = [f'r{r}c{c}' for r in range(20) for c in range(20)]\n",
    "    pixels = df[pixel_columns].values\n",
    "\n",
    "    # Reshape pixels to (num_samples, 20, 20) and normalize\n",
    "    Xs = pixels.reshape(-1, 20, 20) / 256.0\n",
    "    \n",
    "    # Create dictionaries for label preprocessing\n",
    "    unique_labels = sorted(set(Ys))\n",
    "    label_to_index = {label: idx for idx, label in enumerate(unique_labels)}\n",
    "    index_to_label = {idx: label for idx, label in enumerate(unique_labels)}\n",
    "    \n",
    "    # Map labels to indices\n",
    "    Ys = np.array([label_to_index[label] for label in Ys])\n",
    "    \n",
    "    return Xs, Ys, label_to_index, index_to_label\n",
    "\n",
    "# Load data\n",
    "df = pd.read_csv('RICHARD.csv')\n",
    "Xs1, Ys1, label_to_index1, index_to_label1 = transform_data(df)"
   ]
  },
  {
   "cell_type": "markdown",
   "metadata": {},
   "source": [
    "## Step 2: Build a Pytorch network"
   ]
  },
  {
   "cell_type": "code",
   "execution_count": 6,
   "metadata": {},
   "outputs": [
    {
     "name": "stdout",
     "output_type": "stream",
     "text": [
      "Epoch [1/10], Average Loss: 5.4842\n",
      "Epoch [2/10], Average Loss: 5.4336\n",
      "Epoch [3/10], Average Loss: 4.8965\n",
      "Epoch [4/10], Average Loss: 3.1641\n",
      "Epoch [5/10], Average Loss: 1.7690\n",
      "Epoch [6/10], Average Loss: 1.0553\n",
      "Epoch [7/10], Average Loss: 0.7979\n",
      "Epoch [8/10], Average Loss: 0.5929\n",
      "Epoch [9/10], Average Loss: 0.5355\n",
      "Epoch [10/10], Average Loss: 0.4259\n"
     ]
    }
   ],
   "source": [
    "import torch\n",
    "import torch.nn as nn\n",
    "import torch.optim as optim\n",
    "from torch.utils.data import DataLoader, TensorDataset\n",
    "\n",
    "# Define the Convolutional Neural Network\n",
    "class CharCNN(nn.Module):\n",
    "    def __init__(self, num_classes):\n",
    "        super(CharCNN, self).__init__()\n",
    "        self.conv1 = nn.Conv2d(in_channels=1, out_channels=32, kernel_size=3, padding=1)\n",
    "        self.pool = nn.MaxPool2d(kernel_size=2, stride=2)\n",
    "        self.conv2 = nn.Conv2d(in_channels=32, out_channels=64, kernel_size=3, padding=1)\n",
    "        self.fc1 = nn.Linear(in_features=64 * 5 * 5, out_features=128)  # Ensure this size is correct\n",
    "        self.fc2 = nn.Linear(in_features=128, out_features=num_classes)\n",
    "        self.relu = nn.ReLU()\n",
    "    \n",
    "    def forward(self, x):\n",
    "        x = self.relu(self.conv1(x))\n",
    "        x = self.pool(x)\n",
    "        x = self.relu(self.conv2(x))\n",
    "        x = self.pool(x)\n",
    "        x = x.view(-1, 64 * 5 * 5)  # Flatten the tensor\n",
    "        x = self.relu(self.fc1(x))\n",
    "        x = self.fc2(x)\n",
    "        return x\n",
    "\n",
    "# Prepare the dataset and dataloader\n",
    "Xs1_tensor = torch.tensor(Xs1, dtype=torch.float32).reshape(-1, 1, 20, 20)\n",
    "Ys1_tensor = torch.tensor(Ys1, dtype=torch.long)\n",
    "\n",
    "dataset = TensorDataset(Xs1_tensor, Ys1_tensor)\n",
    "data_loader = DataLoader(dataset, batch_size=32, shuffle=True)\n",
    "\n",
    "# Initialize the model, loss function, and optimizer\n",
    "num_classes = len(label_to_index1)\n",
    "model = CharCNN(num_classes=num_classes)\n",
    "loss_function = nn.CrossEntropyLoss()\n",
    "optimizer = optim.Adam(model.parameters(), lr=0.001)\n",
    "\n",
    "# Training the model\n",
    "num_epochs = 10\n",
    "for epoch in range(num_epochs):\n",
    "    model.train()\n",
    "    total_loss = 0.0\n",
    "    for batch_images, batch_labels in data_loader:\n",
    "        optimizer.zero_grad()\n",
    "        predictions = model(batch_images)\n",
    "        loss = loss_function(predictions, batch_labels)\n",
    "        loss.backward()\n",
    "        optimizer.step()\n",
    "        \n",
    "        total_loss += loss.item()\n",
    "    \n",
    "    average_loss = total_loss / len(data_loader)\n",
    "    print(f'Epoch [{epoch+1}/{num_epochs}], Average Loss: {average_loss:.4f}')\n",
    "\n"
   ]
  },
  {
   "cell_type": "markdown",
   "metadata": {},
   "source": [
    "## Step 3: Exploration and Evaluation"
   ]
  },
  {
   "cell_type": "code",
   "execution_count": 11,
   "metadata": {},
   "outputs": [
    {
     "name": "stdout",
     "output_type": "stream",
     "text": [
      "Epoch [1/10], Average Loss: 5.4851\n",
      "Epoch [2/10], Average Loss: 5.4529\n",
      "Epoch [3/10], Average Loss: 5.0396\n",
      "Epoch [4/10], Average Loss: 3.2411\n",
      "Epoch [5/10], Average Loss: 1.6356\n",
      "Epoch [6/10], Average Loss: 1.0601\n",
      "Epoch [7/10], Average Loss: 0.7713\n",
      "Epoch [8/10], Average Loss: 0.6204\n",
      "Epoch [9/10], Average Loss: 0.4805\n",
      "Epoch [10/10], Average Loss: 0.3788\n",
      "Accuracy: 88.60%\n"
     ]
    }
   ],
   "source": [
    "#Evaluate the network using cross validation (splitting data into training/testing). What is its accuracy?\n",
    "\n",
    "\n",
    "# Define the Convolutional Neural Network\n",
    "class CharCNN(nn.Module):\n",
    "    def __init__(self, num_classes):\n",
    "        super(CharCNN, self).__init__()\n",
    "        self.conv1 = nn.Conv2d(in_channels=1, out_channels=32, kernel_size=3, padding=1)\n",
    "        self.pool = nn.MaxPool2d(kernel_size=2, stride=2)\n",
    "        self.conv2 = nn.Conv2d(in_channels=32, out_channels=64, kernel_size=3, padding=1)\n",
    "        self.fc1 = nn.Linear(in_features=64 * 5 * 5, out_features=128)\n",
    "        self.fc2 = nn.Linear(in_features=128, out_features=num_classes)\n",
    "        self.relu = nn.ReLU()\n",
    "    \n",
    "    def forward(self, x):\n",
    "        x = self.relu(self.conv1(x))\n",
    "        x = self.pool(x)\n",
    "        x = self.relu(self.conv2(x))\n",
    "        x = self.pool(x)\n",
    "        x = x.view(-1, 64 * 5 * 5)  # Flatten the tensor\n",
    "        x = self.relu(self.fc1(x))\n",
    "        x = self.fc2(x)\n",
    "        return x\n",
    "\n",
    "# Prepare data\n",
    "Xs1 = Xs1.reshape(-1, 1, 20, 20)  # Reshape for PyTorch\n",
    "dataset1 = TensorDataset(torch.tensor(Xs1, dtype=torch.float32), torch.tensor(Ys1, dtype=torch.long))\n",
    "data_loader1 = DataLoader(dataset1, batch_size=32, shuffle=True)\n",
    "\n",
    "# Initialize model, loss function, and optimizer\n",
    "num_classes1 = len(label_to_index1)\n",
    "model = CharCNN(num_classes=num_classes1)\n",
    "criterion = nn.CrossEntropyLoss()  # Define the loss function\n",
    "optimizer = optim.Adam(model.parameters(), lr=0.001)\n",
    "\n",
    "# Training loop\n",
    "epochs = 10\n",
    "for epoch in range(epochs):\n",
    "    model.train()\n",
    "    total_loss = 0.0\n",
    "    for images, labels in data_loader1:\n",
    "        optimizer.zero_grad()\n",
    "        outputs = model(images)\n",
    "        loss = criterion(outputs, labels)\n",
    "        loss.backward()\n",
    "        optimizer.step()\n",
    "        \n",
    "        total_loss += loss.item()\n",
    "    \n",
    "    average_loss = total_loss / len(data_loader1)\n",
    "    print(f'Epoch [{epoch+1}/{epochs}], Average Loss: {average_loss:.4f}')\n",
    "\n",
    "# Model evaluation\n",
    "model.eval()\n",
    "correct_preds = 0\n",
    "total_samples = 0\n",
    "with torch.no_grad():\n",
    "    for images, labels in data_loader1:\n",
    "        predictions = model(images)\n",
    "        _, predicted_labels = torch.max(predictions, 1)\n",
    "        total_samples += labels.size(0)\n",
    "        correct_preds += (predicted_labels == labels).sum().item()\n",
    "\n",
    "accuracy = 100 * correct_preds / total_samples\n",
    "print(f'Accuracy: {accuracy:.2f}%')\n"
   ]
  }
 ],
 "metadata": {
  "kernelspec": {
   "display_name": "myenv",
   "language": "python",
   "name": "python3"
  },
  "language_info": {
   "codemirror_mode": {
    "name": "ipython",
    "version": 3
   },
   "file_extension": ".py",
   "mimetype": "text/x-python",
   "name": "python",
   "nbconvert_exporter": "python",
   "pygments_lexer": "ipython3",
   "version": "3.12.4"
  }
 },
 "nbformat": 4,
 "nbformat_minor": 2
}
